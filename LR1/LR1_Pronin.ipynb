{
 "cells": [
  {
   "cell_type": "code",
   "execution_count": 143,
   "id": "03a4db7e-d1b6-4857-a1aa-876ec81bf432",
   "metadata": {},
   "outputs": [],
   "source": [
    "from pyspark import SparkContext, SparkConf \n",
    "from pyspark.sql import SparkSession\n",
    "import pyspark.sql as sql\n",
    "from typing import NamedTuple\n",
    "from datetime import datetime"
   ]
  },
  {
   "cell_type": "code",
   "execution_count": 144,
   "id": "01945dff-e668-43e0-b9da-66d49bf56a1f",
   "metadata": {},
   "outputs": [],
   "source": [
    "conf = SparkConf().setAppName(\"LR1\").setMaster('yarn')\n",
    "sc = SparkContext(conf=conf)\n",
    "spark = SparkSession(sc)"
   ]
  },
  {
   "cell_type": "code",
   "execution_count": 145,
   "id": "6a11011f-3539-412a-a22d-4ed9eba37014",
   "metadata": {},
   "outputs": [
    {
     "name": "stdout",
     "output_type": "stream",
     "text": [
      "put: `/user/zse4vfr/.bash_history': File exists\n",
      "put: `/user/zse4vfr/.bash_logout': File exists\n",
      "put: `/user/zse4vfr/.bashrc': File exists\n",
      "put: `/user/zse4vfr/.cache/motd.legal-displayed': File exists\n",
      "put: `/user/zse4vfr/.ipython/profile_default/history.sqlite': File exists\n",
      "put: `/user/zse4vfr/.ipython/profile_default/startup/README': File exists\n",
      "put: `/user/zse4vfr/.jupyter/lab/workspaces/default-37a8.jupyterlab-workspace': File exists\n",
      "put: `/user/zse4vfr/.local/share/jupyter/nbsignatures.db': File exists\n",
      "put: `/user/zse4vfr/.local/share/jupyter/notebook_secret': File exists\n",
      "put: `/user/zse4vfr/.local/share/jupyter/runtime/kernel-901a90d4-613f-4ecf-9731-5acfd64f83ee.json': File exists\n",
      "put: `/user/zse4vfr/.local/share/jupyter/runtime/kernel-bae2d9f3-dfd7-4198-8fb3-53f6fe09ef06.json': File exists\n",
      "put: `/user/zse4vfr/.local/share/jupyter/runtime/nbserver-5134-open.html': File exists\n",
      "put: `/user/zse4vfr/.local/share/jupyter/runtime/nbserver-5134.json': File exists\n",
      "put: `/user/zse4vfr/.profile': File exists\n",
      "put: `/user/zse4vfr/.ssh/authorized_keys': File exists\n",
      "put: `/user/zse4vfr/.ssh/config': File exists\n",
      "put: `/user/zse4vfr/.ssh/known_hosts': File exists\n",
      "put: `/user/zse4vfr/.ssh/zse4vfr_ecdsa': File exists\n",
      "put: `/user/zse4vfr/.ssh/zse4vfr_ecdsa.pub': File exists\n"
     ]
    }
   ],
   "source": [
    "!hadoop fs -put ~/ /user"
   ]
  },
  {
   "cell_type": "code",
   "execution_count": 146,
   "id": "a068895f-1272-4602-b83c-bcc4af4babc1",
   "metadata": {},
   "outputs": [],
   "source": [
    "def initStation(stations):\n",
    "    class Station(NamedTuple):\n",
    "        station_id: int\n",
    "        name: str\n",
    "        lat: float\n",
    "        long: float\n",
    "        dockcount: int\n",
    "        landmark: str\n",
    "        installation: str\n",
    "    \n",
    "    for station in stations:\n",
    "        yield Station(\n",
    "            station_id = int(station[0]),\n",
    "            name = station[1],\n",
    "            lat = float(station[2]),\n",
    "            long = float(station[3]),\n",
    "            dockcount = int(station[4]),\n",
    "            landmark = station[5],\n",
    "            installation = datetime.strptime(station[6], '%m/%d/%Y')\n",
    "        )\n",
    "\n",
    "def initTrip(trips):\n",
    "    class Trip(NamedTuple):\n",
    "        trip_id: int\n",
    "        duration: int\n",
    "        start_date: datetime\n",
    "        start_station_name: str\n",
    "        start_station_id: int\n",
    "        end_date: datetime\n",
    "        end_station_name: str\n",
    "        end_station_id: int\n",
    "        bike_id: int\n",
    "        subscription_type: str\n",
    "        zip_code: str\n",
    "        \n",
    "    for trip in trips:\n",
    "        try:\n",
    "            yield Trip(                             \n",
    "             trip_id = int(trip[0]),\n",
    "             duration = int(trip[1]),\n",
    "             start_date = datetime.strptime(trip[2], '%m/%d/%Y %H:%M'),\n",
    "             start_station_name = trip[3],\n",
    "             start_station_id = int(trip[4]),\n",
    "             end_date = datetime.strptime(trip[5], '%m/%d/%Y %H:%M'),\n",
    "             end_station_name = trip[6],\n",
    "             end_station_id = trip[7],\n",
    "             bike_id = int(trip[8]),\n",
    "             subscription_type = trip[9],\n",
    "             zip_code = trip[10]\n",
    "            ) \n",
    "        except:\n",
    "            pass"
   ]
  },
  {
   "cell_type": "code",
   "execution_count": 147,
   "id": "a97ba95f-b732-428a-b4b0-a97ba61b7910",
   "metadata": {},
   "outputs": [],
   "source": [
    "trip = sc.textFile(\"trip.csv\")\n",
    "station = sc.textFile(\"station.csv\")"
   ]
  },
  {
   "cell_type": "code",
   "execution_count": 148,
   "id": "e2d4a4ca-2424-4d46-aa3a-d3b7cf2624ff",
   "metadata": {},
   "outputs": [
    {
     "name": "stdout",
     "output_type": "stream",
     "text": [
      "<class 'pyspark.rdd.RDD'>\n"
     ]
    }
   ],
   "source": [
    "print(type(trip))"
   ]
  },
  {
   "cell_type": "code",
   "execution_count": 149,
   "id": "d76dbbbe-f7ba-465e-b19a-9fa43fda9c9f",
   "metadata": {},
   "outputs": [
    {
     "data": {
      "text/plain": [
       "['id,duration,start_date,start_station_name,start_station_id,end_date,end_station_name,end_station_id,bike_id,subscription_type,zip_code',\n",
       " '4576,63,8/29/2013 14:13,South Van Ness at Market,66,8/29/2013 14:14,South Van Ness at Market,66,520,Subscriber,94127',\n",
       " '4607,70,8/29/2013 14:42,San Jose City Hall,10,8/29/2013 14:43,San Jose City Hall,10,661,Subscriber,95138',\n",
       " '4130,71,8/29/2013 10:16,Mountain View City Hall,27,8/29/2013 10:17,Mountain View City Hall,27,48,Subscriber,97214',\n",
       " '4251,77,8/29/2013 11:29,San Jose City Hall,10,8/29/2013 11:30,San Jose City Hall,10,26,Subscriber,95060']"
      ]
     },
     "execution_count": 149,
     "metadata": {},
     "output_type": "execute_result"
    }
   ],
   "source": [
    "trip.take(5)"
   ]
  },
  {
   "cell_type": "code",
   "execution_count": 150,
   "id": "858361d8-610a-4a67-a0bd-8a3c54758002",
   "metadata": {},
   "outputs": [],
   "source": [
    "# filtering for map\n",
    "trip_header=trip.first()\n",
    "station_header=station.first()\n",
    "trip=trip.filter(lambda x: x != trip_header).map(lambda x: x.split(\",\"))\n",
    "station=station.filter(lambda x: x != station_header).map(lambda x: x.split(\",\"))"
   ]
  },
  {
   "cell_type": "code",
   "execution_count": 151,
   "id": "f9588d63-1c54-40bd-9504-14443615aa81",
   "metadata": {},
   "outputs": [],
   "source": [
    "trip_mp = trip.mapPartitions(initTrip)\n",
    "station_mp = station.mapPartitions(initStation)"
   ]
  },
  {
   "cell_type": "code",
   "execution_count": 152,
   "id": "1f24045d-2200-47e9-92f1-b0118e736f77",
   "metadata": {},
   "outputs": [
    {
     "data": {
      "text/plain": [
       "Trip(trip_id=4576, duration=63, start_date=datetime.datetime(2013, 8, 29, 14, 13), start_station_name='South Van Ness at Market', start_station_id=66, end_date=datetime.datetime(2013, 8, 29, 14, 14), end_station_name='South Van Ness at Market', end_station_id='66', bike_id=520, subscription_type='Subscriber', zip_code='94127')"
      ]
     },
     "execution_count": 152,
     "metadata": {},
     "output_type": "execute_result"
    }
   ],
   "source": [
    "trip_mp.first()"
   ]
  },
  {
   "cell_type": "code",
   "execution_count": 153,
   "id": "8e7c46fd-574c-4502-9a68-bcc0eef5ad6a",
   "metadata": {},
   "outputs": [
    {
     "data": {
      "text/plain": [
       "'\\nНайти велосипед с максимальным временем пробега.\\n'"
      ]
     },
     "execution_count": 153,
     "metadata": {},
     "output_type": "execute_result"
    }
   ],
   "source": [
    "\"\"\"\n",
    "Найти велосипед с максимальным временем пробега.\n",
    "\"\"\""
   ]
  },
  {
   "cell_type": "code",
   "execution_count": 154,
   "id": "6b4d5625-6953-479b-9a33-ad7e5be4c3ec",
   "metadata": {},
   "outputs": [
    {
     "data": {
      "text/plain": [
       "535"
      ]
     },
     "execution_count": 154,
     "metadata": {},
     "output_type": "execute_result"
    }
   ],
   "source": [
    "bike_max_time = trip_mp \\\n",
    ".map(lambda trip: (trip.bike_id, trip.duration)) \\\n",
    ".reduceByKey(lambda a, b: a + b) \\\n",
    ".top(1, key = lambda x: x[1])[0][0]\n",
    "\n",
    "bike_max_time"
   ]
  },
  {
   "cell_type": "code",
   "execution_count": 155,
   "id": "5c758f87-e633-4f9f-9191-c108c29b7b47",
   "metadata": {},
   "outputs": [
    {
     "data": {
      "text/plain": [
       "'\\nНайти наибольшее геодезическое расстояние между станциями.\\n'"
      ]
     },
     "execution_count": 155,
     "metadata": {},
     "output_type": "execute_result"
    }
   ],
   "source": [
    "\"\"\"\n",
    "Найти наибольшее геодезическое расстояние между станциями.\n",
    "\"\"\""
   ]
  },
  {
   "cell_type": "code",
   "execution_count": 156,
   "id": "0348a912-70f3-40e9-97ce-86cc5de706ab",
   "metadata": {},
   "outputs": [
    {
     "data": {
      "text/plain": [
       "(16, 60, 0.7058482821754397)"
      ]
     },
     "execution_count": 156,
     "metadata": {},
     "output_type": "execute_result"
    }
   ],
   "source": [
    "\n",
    "station_distances = station_mp \\\n",
    ".cartesian(station_mp) \\\n",
    ".map(lambda pair: (pair[0].station_id, \n",
    "                   pair[1].station_id, \n",
    "                   ((pair[0].lat - pair[1].lat)**2 + (pair[0].long - pair[1].long)**2)**0.5)) \\\n",
    ".top(1, key=lambda x: x[2])[0]\n",
    "\n",
    "station_distances"
   ]
  },
  {
   "cell_type": "code",
   "execution_count": 157,
   "id": "c78f80b1-966a-4056-a707-2edcaa9f93b5",
   "metadata": {},
   "outputs": [
    {
     "data": {
      "text/plain": [
       "'\\nНайти путь велосипеда с максимальным временем пробега через станции.\\n'"
      ]
     },
     "execution_count": 157,
     "metadata": {},
     "output_type": "execute_result"
    }
   ],
   "source": [
    "\n",
    "\"\"\"\n",
    "Найти путь велосипеда с максимальным временем пробега через станции.\n",
    "\"\"\""
   ]
  },
  {
   "cell_type": "code",
   "execution_count": 158,
   "id": "2f3ebf8d-678c-46be-9607-5db5889806de",
   "metadata": {},
   "outputs": [
    {
     "data": {
      "text/plain": [
       "('Post at Kearney', 'San Francisco Caltrain (Townsend at 4th)')"
      ]
     },
     "execution_count": 158,
     "metadata": {},
     "output_type": "execute_result"
    }
   ],
   "source": [
    "result = trip_mp \\\n",
    ".filter(lambda x: x.bike_id == bike_max_time) \\\n",
    ".sortBy(lambda x: x.start_date) \\\n",
    ".map(lambda x: (x.start_station_name, x.end_station_name)) \\\n",
    ".first() \n",
    "\n",
    "result"
   ]
  },
  {
   "cell_type": "code",
   "execution_count": 159,
   "id": "ce86f901-6ba4-46df-90aa-f256aff390fb",
   "metadata": {},
   "outputs": [
    {
     "data": {
      "text/plain": [
       "'\\nНайти количество велосипедов в системе.\\n'"
      ]
     },
     "execution_count": 159,
     "metadata": {},
     "output_type": "execute_result"
    }
   ],
   "source": [
    "\"\"\"\n",
    "Найти количество велосипедов в системе.\n",
    "\"\"\""
   ]
  },
  {
   "cell_type": "code",
   "execution_count": 160,
   "id": "a96ae3ab-6967-4ec4-b907-ecac959db964",
   "metadata": {},
   "outputs": [
    {
     "data": {
      "text/plain": [
       "700"
      ]
     },
     "execution_count": 160,
     "metadata": {},
     "output_type": "execute_result"
    }
   ],
   "source": [
    "amount = trip_mp \\\n",
    ".map(lambda x: x.bike_id) \\\n",
    ".distinct() \\\n",
    ".count()\n",
    "\n",
    "amount"
   ]
  },
  {
   "cell_type": "code",
   "execution_count": 161,
   "id": "64ea457a-29e8-4681-b346-2f1f6fdd5da8",
   "metadata": {},
   "outputs": [
    {
     "data": {
      "text/plain": [
       "'\\nНайти пользователей потративших на поездки более 3 часов.\\n'"
      ]
     },
     "execution_count": 161,
     "metadata": {},
     "output_type": "execute_result"
    }
   ],
   "source": [
    "\"\"\"\n",
    "Найти пользователей потративших на поездки более 3 часов.\n",
    "\"\"\""
   ]
  },
  {
   "cell_type": "code",
   "execution_count": null,
   "id": "e57e9fc4-60f2-4d2b-a463-8e59fbbccf01",
   "metadata": {},
   "outputs": [],
   "source": [
    "users3h = trip_mp \\\n",
    ".filter(lambda x: x.duration > (3 * 60 * 60)) \\\n",
    ".map(lambda x: x.zip_code) \\\n",
    ".filter(lambda x: x!= \"\") \\\n",
    ".distinct() \n",
    "\n",
    "users3h.take(3)"
   ]
  },
  {
   "cell_type": "code",
   "execution_count": null,
   "id": "58281dc5-5418-43ab-9e94-8f117bef22bd",
   "metadata": {},
   "outputs": [],
   "source": [
    "sc.stop()"
   ]
  },
  {
   "cell_type": "code",
   "execution_count": null,
   "id": "31aa0b2e-17d7-4f38-9183-4557ff99f82c",
   "metadata": {},
   "outputs": [],
   "source": []
  }
 ],
 "metadata": {
  "kernelspec": {
   "display_name": "Python 3",
   "language": "python",
   "name": "python3"
  },
  "language_info": {
   "codemirror_mode": {
    "name": "ipython",
    "version": 3
   },
   "file_extension": ".py",
   "mimetype": "text/x-python",
   "name": "python",
   "nbconvert_exporter": "python",
   "pygments_lexer": "ipython3",
   "version": "3.9.5"
  }
 },
 "nbformat": 4,
 "nbformat_minor": 5
}
